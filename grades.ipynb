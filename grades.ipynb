{
 "cells": [
  {
   "cell_type": "code",
   "execution_count": 5,
   "metadata": {},
   "outputs": [
    {
     "name": "stdout",
     "output_type": "stream",
     "text": [
      "Enter a grade or -1 to finish:70\n",
      "Enter a grade or -1 to finish:65\n",
      "Enter a grade or -1 to finish:30\n",
      "Enter a grade or -1 to finish:-1\n",
      "Total grades: 3\n",
      "Number of passing: 2\n",
      "Number of failing: 1\n",
      "The average: 55.0\n",
      "The maximum grade: 70.0\n",
      "The minimum grade: 30.0\n"
     ]
    }
   ],
   "source": [
    "num_passing=0\n",
    "num_failing=0\n",
    "count=0\n",
    "total=0\n",
    "min_grade=100\n",
    "max_grade=0\n",
    "\n",
    "grade=float(input(\"Enter a grade or -1 to finish:\"))\n",
    "while grade>0:\n",
    "    if grade>60:\n",
    "        num_passing=num_passing+1\n",
    "    if grade<=60:\n",
    "        num_failing=num_failing+1\n",
    "    \n",
    "    if grade>max_grade:\n",
    "        max_grade=grade\n",
    "    if grade<min_grade:\n",
    "        min_grade=grade\n",
    "    \n",
    "    total=total+grade\n",
    "    count=count+1\n",
    "\n",
    "    grade=float(input(\"Enter a grade or -1 to finish:\"))\n",
    "    \n",
    "if count>1:\n",
    "    average_grade=total/count\n",
    "    \n",
    "print(\"Total grades:\", count)    \n",
    "print(\"Number of passing:\", num_passing)\n",
    "print(\"Number of failing:\", num_failing)\n",
    "print(\"The average:\", average_grade)\n",
    "print(\"The maximum grade:\", max_grade)\n",
    "print(\"The minimum grade:\", min_grade)\n",
    "\n",
    "    "
   ]
  },
  {
   "cell_type": "code",
   "execution_count": null,
   "metadata": {},
   "outputs": [],
   "source": []
  }
 ],
 "metadata": {
  "kernelspec": {
   "display_name": "Python 3",
   "language": "python",
   "name": "python3"
  },
  "language_info": {
   "codemirror_mode": {
    "name": "ipython",
    "version": 3
   },
   "file_extension": ".py",
   "mimetype": "text/x-python",
   "name": "python",
   "nbconvert_exporter": "python",
   "pygments_lexer": "ipython3",
   "version": "3.8.3"
  }
 },
 "nbformat": 4,
 "nbformat_minor": 4
}
